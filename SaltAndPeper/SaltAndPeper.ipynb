{
  "nbformat": 4,
  "nbformat_minor": 0,
  "metadata": {
    "colab": {
      "provenance": [],
      "gpuType": "T4"
    },
    "kernelspec": {
      "name": "python3",
      "display_name": "Python 3"
    },
    "language_info": {
      "name": "python"
    },
    "accelerator": "GPU"
  },
  "cells": [
    {
      "cell_type": "code",
      "execution_count": 1,
      "metadata": {
        "colab": {
          "base_uri": "https://localhost:8080/"
        },
        "id": "cc9vumeIeZBt",
        "outputId": "b111bae0-8f11-4eb9-b8f7-f5f903789f84"
      },
      "outputs": [
        {
          "output_type": "stream",
          "name": "stdout",
          "text": [
            "Collecting pycuda\n",
            "  Downloading pycuda-2022.2.2.tar.gz (1.7 MB)\n",
            "\u001b[2K     \u001b[90m━━━━━━━━━━━━━━━━━━━━━━━━━━━━━━━━━━━━━━━━\u001b[0m \u001b[32m1.7/1.7 MB\u001b[0m \u001b[31m8.5 MB/s\u001b[0m eta \u001b[36m0:00:00\u001b[0m\n",
            "\u001b[?25h  Installing build dependencies ... \u001b[?25l\u001b[?25hdone\n",
            "  Getting requirements to build wheel ... \u001b[?25l\u001b[?25hdone\n",
            "  Preparing metadata (pyproject.toml) ... \u001b[?25l\u001b[?25hdone\n",
            "Collecting pytools>=2011.2 (from pycuda)\n",
            "  Downloading pytools-2023.1.1-py2.py3-none-any.whl (70 kB)\n",
            "\u001b[2K     \u001b[90m━━━━━━━━━━━━━━━━━━━━━━━━━━━━━━━━━━━━━━━━\u001b[0m \u001b[32m70.6/70.6 kB\u001b[0m \u001b[31m11.8 MB/s\u001b[0m eta \u001b[36m0:00:00\u001b[0m\n",
            "\u001b[?25hRequirement already satisfied: appdirs>=1.4.0 in /usr/local/lib/python3.10/dist-packages (from pycuda) (1.4.4)\n",
            "Collecting mako (from pycuda)\n",
            "  Downloading Mako-1.2.4-py3-none-any.whl (78 kB)\n",
            "\u001b[2K     \u001b[90m━━━━━━━━━━━━━━━━━━━━━━━━━━━━━━━━━━━━━━━━\u001b[0m \u001b[32m78.7/78.7 kB\u001b[0m \u001b[31m12.6 MB/s\u001b[0m eta \u001b[36m0:00:00\u001b[0m\n",
            "\u001b[?25hRequirement already satisfied: platformdirs>=2.2.0 in /usr/local/lib/python3.10/dist-packages (from pytools>=2011.2->pycuda) (3.11.0)\n",
            "Requirement already satisfied: typing-extensions>=4.0 in /usr/local/lib/python3.10/dist-packages (from pytools>=2011.2->pycuda) (4.5.0)\n",
            "Requirement already satisfied: MarkupSafe>=0.9.2 in /usr/local/lib/python3.10/dist-packages (from mako->pycuda) (2.1.3)\n",
            "Building wheels for collected packages: pycuda\n",
            "  Building wheel for pycuda (pyproject.toml) ... \u001b[?25l\u001b[?25hdone\n",
            "  Created wheel for pycuda: filename=pycuda-2022.2.2-cp310-cp310-linux_x86_64.whl size=661265 sha256=d477f9600e53d39b2515b7dd3cc26e319d62486f9b528f0c9c1b9cc346a89dbc\n",
            "  Stored in directory: /root/.cache/pip/wheels/1d/7b/06/82a395a243fce00035dea9914d92bbef0013401497d849f8bc\n",
            "Successfully built pycuda\n",
            "Installing collected packages: pytools, mako, pycuda\n",
            "Successfully installed mako-1.2.4 pycuda-2022.2.2 pytools-2023.1.1\n"
          ]
        }
      ],
      "source": [
        "! pip install pycuda\n",
        "import pycuda.autoinit\n",
        "from pycuda.compiler import SourceModule\n",
        "from pycuda import driver, gpuarray"
      ]
    },
    {
      "cell_type": "code",
      "source": [
        "from PIL import Image\n",
        "import numpy as np\n",
        "import math\n",
        "import time\n",
        "import random"
      ],
      "metadata": {
        "id": "VAKJTKV2edZ-"
      },
      "execution_count": 41,
      "outputs": []
    },
    {
      "cell_type": "code",
      "source": [
        "# ядро и вспомогательные элементы на c++\n",
        "mod = SourceModule(\"\"\"\n",
        "\n",
        " texture<int, 2, cudaReadModeElementType> image;\n",
        "\n",
        "__device__ void bubble_sort(int* list, int listLength){\n",
        "\twhile(listLength--){\n",
        "\t\tbool swapped = false;\n",
        "\t\tfor(int i = 0; i < listLength; i++){\n",
        "\t\t\tif(list[i] > list[i + 1]){\n",
        "        int temp = list[i];\n",
        "        list[i] = list[i + 1];\n",
        "        list[i + 1] = temp;\n",
        "\t\t\t\tswapped = true;\n",
        "\t\t\t}\n",
        "\t\t}\n",
        "\t\tif(swapped == false)\n",
        "\t\t\tbreak;\n",
        "\t}\n",
        "}\n",
        "\n",
        "\n",
        "__global__ void kernel(int* out, int n, int m, int kernel_size){\n",
        "    extern __shared__  int median_value[];\n",
        "\n",
        "    int i = blockIdx.x * blockDim.x + threadIdx.x;\n",
        "    int j = blockIdx.y * blockDim.y + threadIdx.y;\n",
        "    int k = (kernel_size - 1) / 2;\n",
        "\n",
        "    if (i >= n || j >= m) {\n",
        "        return;\n",
        "    }\n",
        "\n",
        "    int min_i = max(0, i - k);\n",
        "    int min_j = max(0, j - k);\n",
        "    int max_i = min(n-1, i + k);\n",
        "    int max_j = min(m-1, j + k);\n",
        "\n",
        "    int c_n = (max_i - min_i) + 1;\n",
        "    int c_m = (max_j - min_j) + 1;\n",
        "\n",
        "    for (int c_i = 0; c_i < c_n; ++c_i) {\n",
        "        for (int c_j = 0; c_j < c_m; ++c_j) {\n",
        "            median_value[c_i * c_m + c_j] = tex2D(image, min_j + c_j, min_i + c_i);\n",
        "        }\n",
        "    }\n",
        "    bubble_sort(median_value, c_n * c_m);\n",
        "    out[i * m + j] = median_value[c_n * c_m / 2];\n",
        "\n",
        "}\n",
        "  \"\"\")\n",
        "\n",
        "# функция для динамического подсчета размерностей грида и блоков\n",
        "def count_cuda_dims(n, m):\n",
        "    xthreadsPerBlock = n if n < 8 else 8\n",
        "    ythreadsPerBlock = m if m < 8 else 8\n",
        "    blocksPerGrid = (math.ceil(n / xthreadsPerBlock), math.ceil(m / ythreadsPerBlock), 1)\n",
        "    threadsPerBlock = (xthreadsPerBlock, ythreadsPerBlock, 1)\n",
        "    return blocksPerGrid, threadsPerBlock\n",
        "\n",
        "\n",
        "# функция для применения фильтра на GPU\n",
        "def filter_gpu(inp, n, m, kernel_size):\n",
        "  start_time = time.time()\n",
        "  k = (kernel_size - 1) / 2\n",
        "\n",
        "  tex_image = mod.get_texref(\"image\")\n",
        "  inp = inp.astype(np.int32)\n",
        "  driver.matrix_to_texref(inp, tex_image, order=\"C\")\n",
        "\n",
        "  out = np.zeros(n*m)\n",
        "  out = out.astype(np.int32)\n",
        "  out_gpu = driver.mem_alloc(out.nbytes)\n",
        "  driver.memcpy_htod(out_gpu, out)\n",
        "\n",
        "  blocksPerGrid, threadsPerBlock=count_cuda_dims(n, m)\n",
        "  sharedArrayOffsetScale = kernel_size * kernel_size\n",
        "  bufSize = sharedArrayOffsetScale * threadsPerBlock[0] * threadsPerBlock[1]*4\n",
        "  kernel = mod.get_function(\"kernel\")\n",
        "  kernel(out_gpu, np.int32(n), np.int32(m), np.int32(kernel_size), block=threadsPerBlock, grid=blocksPerGrid, shared=bufSize)\n",
        "\n",
        "  driver.Context.synchronize()\n",
        "  driver.memcpy_dtoh(out, out_gpu)\n",
        "  return out, time.time()-start_time"
      ],
      "metadata": {
        "id": "I68eDGHeeepy",
        "colab": {
          "base_uri": "https://localhost:8080/"
        },
        "outputId": "c3f9ee86-ae74-4998-cec4-3cd166f700ce"
      },
      "execution_count": 42,
      "outputs": [
        {
          "output_type": "stream",
          "name": "stderr",
          "text": [
            "<ipython-input-42-eefd84986770>:2: UserWarning: The CUDA compiler succeeded, but said the following:\n",
            "kernel.cu(44): warning #1215-D: function \"tex2D(texture<T, 2, cudaReadModeElementType>, float, float) [with T=int]\"\n",
            "/usr/local/cuda/bin/../targets/x86_64-linux/include/texture_fetch_functions.h(198): here was declared deprecated\n",
            "\n",
            "\n",
            "  mod = SourceModule(\"\"\"\n",
            "/usr/local/lib/python3.10/dist-packages/google/colab/_variable_inspector.py:27: UserWarning: module in out-of-thread context could not be cleaned up\n",
            "  globals().clear()\n"
          ]
        }
      ]
    },
    {
      "cell_type": "code",
      "source": [
        "# функция для применения фильтра на CPU\n",
        "def filter_cpu(inp, n, m, kernel_size):\n",
        "    start_time = time.time()\n",
        "    output = np.zeros(n*m)\n",
        "    kernel = (kernel_size - 1) / 2\n",
        "\n",
        "    for i in range(n):\n",
        "        for j in range(m):\n",
        "            min_i = max(0, i - kernel)\n",
        "            min_j = max(0, j - kernel)\n",
        "            max_i = min(n-1, i + kernel)\n",
        "            max_j = min(m-1, j + kernel)\n",
        "            c_n = int((max_i - min_i) + 1)\n",
        "            c_m = int((max_j - min_j) + 1)\n",
        "            k = 0\n",
        "            index0 = i * m + j\n",
        "            value=[]\n",
        "            for c_i in range(c_n):\n",
        "                for c_j in range(c_m):\n",
        "                    index = int((min_i + c_i) * m + (min_j + c_j))\n",
        "                    f = inp[index]\n",
        "                    value.append(f)\n",
        "            v = sorted(value)\n",
        "\n",
        "            output[i * m + j] = v[int(c_n*c_m/2)]\n",
        "    return output, time.time()-start_time"
      ],
      "metadata": {
        "id": "x97Ck0O2ef2a"
      },
      "execution_count": 43,
      "outputs": []
    },
    {
      "cell_type": "code",
      "source": [
        "# функция добавления шума на изображения\n",
        "def add_noise(img):\n",
        "    row , col = img.shape\n",
        "    number_of_pixels = random.randint(300, 10000)\n",
        "    for i in range(number_of_pixels):\n",
        "        y_coord=random.randint(0, row - 1)\n",
        "        x_coord=random.randint(0, col - 1)\n",
        "        img[y_coord,x_coord] = 255\n",
        "    number_of_pixels = random.randint(300 , 10000)\n",
        "    for i in range(number_of_pixels):\n",
        "        y_coord=random.randint(0, row - 1)\n",
        "        x_coord=random.randint(0, col - 1)\n",
        "        img[y_coord,x_coord] = 0\n",
        "    return img"
      ],
      "metadata": {
        "id": "a_iiUtHAhEPD"
      },
      "execution_count": 44,
      "outputs": []
    },
    {
      "cell_type": "code",
      "source": [
        "#добавление шума\n",
        "import cv2\n",
        "img = cv2.imread('Mona_Lisa_GS2.bmp', cv2.IMREAD_GRAYSCALE)\n",
        "cv2.imwrite('sap.bmp', add_noise(img))"
      ],
      "metadata": {
        "colab": {
          "base_uri": "https://localhost:8080/"
        },
        "id": "aH2q-ECpeip6",
        "outputId": "5748ee7f-3660-4327-8068-028d98910ccc"
      },
      "execution_count": 45,
      "outputs": [
        {
          "output_type": "execute_result",
          "data": {
            "text/plain": [
              "True"
            ]
          },
          "metadata": {},
          "execution_count": 45
        }
      ]
    },
    {
      "cell_type": "code",
      "source": [
        "WIDTH = 400\n",
        "HIDTH = 400\n",
        "img=Image.open('sap.bmp').convert('L')\n",
        "new_img = img.resize((WIDTH,HIDTH))\n",
        "new_img.save('new_image.bmp')"
      ],
      "metadata": {
        "id": "Sz3q86BEi44Z"
      },
      "execution_count": 46,
      "outputs": []
    },
    {
      "cell_type": "code",
      "source": [
        "img=Image.open('new_image.bmp').convert('L')\n",
        "new_img = img.resize((WIDTH,HIDTH))\n",
        "img_array = np.asarray(new_img).reshape(WIDTH*HIDTH)\n",
        "res_cpu, time_cpu = filter_cpu(img_array, WIDTH, HIDTH, 9)\n",
        "res_cpu = res_cpu.reshape((WIDTH, HIDTH))\n",
        "PIL_image = Image.fromarray(np.uint8(res_cpu))\n",
        "print(time_cpu)\n",
        "PIL_image.save('CPU.bmp')"
      ],
      "metadata": {
        "colab": {
          "base_uri": "https://localhost:8080/"
        },
        "id": "blDXhY2tejLt",
        "outputId": "41b7e0f9-c6e5-4d8e-8ac0-751e586f88f8"
      },
      "execution_count": 47,
      "outputs": [
        {
          "output_type": "stream",
          "name": "stdout",
          "text": [
            "7.75164270401001\n"
          ]
        }
      ]
    },
    {
      "cell_type": "code",
      "source": [
        "img=Image.open('new_image.bmp').convert('L')\n",
        "new_img = img.resize((WIDTH,HIDTH))\n",
        "img_array = np.array(new_img)\n",
        "res_gpu, time_gpu = filter_gpu(img_array, WIDTH, HIDTH, 9)\n",
        "print(time_gpu)\n",
        "res_gpu = res_gpu.reshape((WIDTH, HIDTH))\n",
        "PIL_image.save('GPU.bmp')"
      ],
      "metadata": {
        "colab": {
          "base_uri": "https://localhost:8080/"
        },
        "id": "w6H_8lPeekTZ",
        "outputId": "93308909-ca6b-4d9f-c6fa-14a353199cb5"
      },
      "execution_count": 48,
      "outputs": [
        {
          "output_type": "stream",
          "name": "stdout",
          "text": [
            "0.0060214996337890625\n"
          ]
        }
      ]
    },
    {
      "cell_type": "code",
      "source": [
        "A = time_cpu/time_gpu\n",
        "A"
      ],
      "metadata": {
        "id": "2NTJ5M5Tem6h",
        "colab": {
          "base_uri": "https://localhost:8080/"
        },
        "outputId": "504e74ee-d491-40ee-d8e9-9189be829bea"
      },
      "execution_count": 49,
      "outputs": [
        {
          "output_type": "execute_result",
          "data": {
            "text/plain": [
              "1287.3276053215077"
            ]
          },
          "metadata": {},
          "execution_count": 49
        }
      ]
    }
  ]
}