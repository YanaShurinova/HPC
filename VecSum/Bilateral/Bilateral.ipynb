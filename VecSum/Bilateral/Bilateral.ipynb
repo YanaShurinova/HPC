{
  "nbformat": 4,
  "nbformat_minor": 0,
  "metadata": {
    "colab": {
      "provenance": [],
      "gpuType": "T4"
    },
    "kernelspec": {
      "name": "python3",
      "display_name": "Python 3"
    },
    "language_info": {
      "name": "python"
    },
    "accelerator": "GPU"
  },
  "cells": [
    {
      "cell_type": "code",
      "execution_count": 155,
      "metadata": {
        "colab": {
          "base_uri": "https://localhost:8080/"
        },
        "id": "XDMjESBUtkau",
        "outputId": "f9a67aab-c6bb-4a60-82ac-5ef27745fc63"
      },
      "outputs": [
        {
          "output_type": "stream",
          "name": "stdout",
          "text": [
            "Requirement already satisfied: pycuda in /usr/local/lib/python3.10/dist-packages (2022.2.2)\n",
            "Requirement already satisfied: pytools>=2011.2 in /usr/local/lib/python3.10/dist-packages (from pycuda) (2023.1.1)\n",
            "Requirement already satisfied: appdirs>=1.4.0 in /usr/local/lib/python3.10/dist-packages (from pycuda) (1.4.4)\n",
            "Requirement already satisfied: mako in /usr/local/lib/python3.10/dist-packages (from pycuda) (1.2.4)\n",
            "Requirement already satisfied: platformdirs>=2.2.0 in /usr/local/lib/python3.10/dist-packages (from pytools>=2011.2->pycuda) (3.11.0)\n",
            "Requirement already satisfied: typing-extensions>=4.0 in /usr/local/lib/python3.10/dist-packages (from pytools>=2011.2->pycuda) (4.5.0)\n",
            "Requirement already satisfied: MarkupSafe>=0.9.2 in /usr/local/lib/python3.10/dist-packages (from mako->pycuda) (2.1.3)\n"
          ]
        }
      ],
      "source": [
        "! pip install pycuda\n",
        "import pycuda.autoinit\n",
        "from pycuda.compiler import SourceModule\n",
        "from pycuda import driver, gpuarray"
      ]
    },
    {
      "cell_type": "code",
      "source": [
        "from PIL import Image\n",
        "import numpy as np\n",
        "import math\n",
        "import time"
      ],
      "metadata": {
        "id": "8Cwf-4wZuIjo"
      },
      "execution_count": 156,
      "outputs": []
    },
    {
      "cell_type": "code",
      "source": [
        "# ядро и вспомогательные элементы на c++\n",
        "mod = SourceModule(\"\"\"\n",
        "\n",
        " texture<int, 2, cudaReadModeElementType> image;\n",
        "\n",
        " const float sigma_d = 0.1;\n",
        " const float sigma_s = 12;\n",
        "\n",
        "__device__ float gauss(float x) {\n",
        "    return sigma_d * exp(-(x * x) / sigma_s);\n",
        "}\n",
        "\n",
        "__global__ void kernel(int* out, int n, int m, int kernel_size)\n",
        "  {\n",
        "    int i = blockIdx.x * blockDim.x + threadIdx.x;\n",
        "    int j = blockIdx.y * blockDim.y + threadIdx.y;\n",
        "\n",
        "    if (i >= n || j >= m) {\n",
        "        return;\n",
        "    }\n",
        "\n",
        "    int min_i = max(0, i - kernel_size);\n",
        "    int min_j = max(0, j - kernel_size);\n",
        "    int max_i = min(n-1, i + kernel_size);\n",
        "    int max_j = min(m-1, j + kernel_size);\n",
        "\n",
        "    int c_n = (max_i - min_i) + 1;\n",
        "    int c_m = (max_j - min_j) + 1;\n",
        "\n",
        "    float k = 0;\n",
        "    float output = 0;\n",
        "    float g, r, f;\n",
        "\n",
        "    float center = tex2D(image, j, i) / 255.0;\n",
        "\n",
        "    for (int c_i = 0; c_i < c_n; ++c_i) {\n",
        "        for (int c_j = 0; c_j < c_m; ++c_j) {\n",
        "            f = tex2D(image, min_j + c_j, min_i + c_i) / 255.0;\n",
        "            g = gauss(f - center);\n",
        "            r = gauss(pow(double(min_i + c_i - i), 2) + pow(double(min_j + c_j - j), 2));\n",
        "\n",
        "            output += f * g * r;\n",
        "            k += g * r;\n",
        "\n",
        "        }\n",
        "    }\n",
        "\n",
        "    out[i * m + j] = ((int)(255 * output / k)) % 255;\n",
        "  }\n",
        "  \"\"\")\n",
        "\n",
        "# функция для динамического подсчета размерностей грида и блоков\n",
        "def count_cuda_dims(n, m):\n",
        "    xthreadsPerBlock = n if n < 32 else 32\n",
        "    ythreadsPerBlock = m if m < 32 else 32\n",
        "    blocksPerGrid = (math.ceil(n / xthreadsPerBlock), math.ceil(m / ythreadsPerBlock), 1)\n",
        "    threadsPerBlock = (xthreadsPerBlock, ythreadsPerBlock, 1)\n",
        "    return blocksPerGrid, threadsPerBlock\n",
        "\n",
        "\n",
        "# функция для применения фильтра на GPU\n",
        "def filter_gpu(inp, n, m, kernel_size):\n",
        "  start_time = time.time()\n",
        "  kernel_size = (kernel_size - 1) / 2\n",
        "\n",
        "  tex_image = mod.get_texref(\"image\")\n",
        "  inp = inp.astype(np.int32)\n",
        "  driver.matrix_to_texref(inp, tex_image, order=\"C\")\n",
        "\n",
        "  out = np.zeros(n*m)\n",
        "  out = out.astype(np.int32)\n",
        "  out_gpu = driver.mem_alloc(out.nbytes)\n",
        "  driver.memcpy_htod(out_gpu, out)\n",
        "\n",
        "  blocksPerGrid, threadsPerBlock=count_cuda_dims(n, m)\n",
        "  kernel = mod.get_function(\"kernel\")\n",
        "  kernel(out_gpu, np.int32(n), np.int32(m), np.int32(kernel_size), block=threadsPerBlock, grid = blocksPerGrid)\n",
        "\n",
        "  driver.Context.synchronize()\n",
        "  driver.memcpy_dtoh(out, out_gpu)\n",
        "  return out, time.time()-start_time"
      ],
      "metadata": {
        "id": "3UA2XMyMude5",
        "colab": {
          "base_uri": "https://localhost:8080/"
        },
        "outputId": "abcd3955-e014-4f1e-c8ad-341b79540e9e"
      },
      "execution_count": 172,
      "outputs": [
        {
          "output_type": "stream",
          "name": "stderr",
          "text": [
            "<ipython-input-172-1e5ce0487dad>:1: UserWarning: The CUDA compiler succeeded, but said the following:\n",
            "kernel.cu(34): warning #1215-D: function \"tex2D(texture<T, 2, cudaReadModeElementType>, float, float) [with T=int]\"\n",
            "/usr/local/cuda/bin/../targets/x86_64-linux/include/texture_fetch_functions.h(198): here was declared deprecated\n",
            "\n",
            "kernel.cu(38): warning #1215-D: function \"tex2D(texture<T, 2, cudaReadModeElementType>, float, float) [with T=int]\"\n",
            "/usr/local/cuda/bin/../targets/x86_64-linux/include/texture_fetch_functions.h(198): here was declared deprecated\n",
            "\n",
            "\n",
            "  mod = SourceModule(\"\"\"\n"
          ]
        }
      ]
    },
    {
      "cell_type": "code",
      "source": [
        "sigma_d = 0.1\n",
        "sigma_s = 12\n",
        "\n",
        "def gauss(x):\n",
        "    return sigma_d * math.exp(-(x * x) / sigma_s);\n",
        "\n",
        "\n",
        "# функция для применения фильтра на CPU\n",
        "def filter_cpu(inp, n, m, kernel_size):\n",
        "    start_time = time.time()\n",
        "    output = np.zeros(n*m)\n",
        "    kernel = (kernel_size - 1) / 2\n",
        "\n",
        "    for i in range(n):\n",
        "        for j in range(m):\n",
        "            min_i = max(0, i - kernel)\n",
        "            min_j = max(0, j - kernel)\n",
        "            max_i = min(n-1, i + kernel)\n",
        "            max_j = min(m-1, j + kernel)\n",
        "\n",
        "            c_n = int((max_i - min_i) + 1)\n",
        "            c_m = int((max_j - min_j) + 1)\n",
        "\n",
        "            k = 0\n",
        "            value = 0\n",
        "            index0 = i * m + j\n",
        "            for c_i in range(c_n):\n",
        "                for c_j in range(c_m):\n",
        "                    index = int((min_i + c_i) * m + (min_j + c_j))\n",
        "                    g = gauss(inp[index]/255.0-inp[index0]/255.0)\n",
        "                    r = gauss((min_i + c_i-i)**2+(min_j + c_j-j)**2)\n",
        "                    f = inp[index] / 255.0\n",
        "\n",
        "                    value += f * r * g\n",
        "                    k += g * r\n",
        "\n",
        "            output[i * m + j] = int((255*value / k)) % 255\n",
        "\n",
        "    return output, time.time()-start_time"
      ],
      "metadata": {
        "id": "bYKe8in-JX1k"
      },
      "execution_count": 173,
      "outputs": []
    },
    {
      "cell_type": "code",
      "source": [
        "WIDTH = 600\n",
        "HIDTH = 600\n",
        "img=Image.open('image.bmp')\n",
        "new_img = img.resize((WIDTH,HIDTH))\n",
        "new_img.save('new_image.bmp')"
      ],
      "metadata": {
        "id": "MtRgnmaPuNuH"
      },
      "execution_count": 177,
      "outputs": []
    },
    {
      "cell_type": "code",
      "source": [
        "img=Image.open('image.bmp')\n",
        "new_img = img.resize((WIDTH,HIDTH))\n",
        "img_array = np.asarray(new_img).reshape(WIDTH*HIDTH)\n",
        "res_cpu, time_cpu = filter_cpu(img_array, WIDTH, HIDTH, 5)\n",
        "res_cpu = res_cpu.reshape((WIDTH, HIDTH))\n",
        "PIL_image = Image.fromarray(np.uint8(res_cpu))\n",
        "print(time_cpu)\n",
        "PIL_image.save('CPU.bmp')"
      ],
      "metadata": {
        "colab": {
          "base_uri": "https://localhost:8080/"
        },
        "id": "0jUKWKQVj-V6",
        "outputId": "52653ba5-ac9e-443c-c2b3-0d71aadda218"
      },
      "execution_count": 176,
      "outputs": [
        {
          "output_type": "stream",
          "name": "stdout",
          "text": [
            "71.03792977333069\n"
          ]
        }
      ]
    },
    {
      "cell_type": "code",
      "source": [
        "img=Image.open('image.bmp')\n",
        "new_img = img.resize((WIDTH,HIDTH))\n",
        "img_array = np.array(new_img)\n",
        "res_gpu, time_gpu = filter_gpu(img_array, WIDTH, HIDTH, 5)\n",
        "print(time_gpu)\n",
        "res_gpu = res_gpu.reshape((WIDTH, HIDTH))\n",
        "PIL_image.save('GPU.bmp')"
      ],
      "metadata": {
        "colab": {
          "base_uri": "https://localhost:8080/"
        },
        "id": "-vbWqAcg2qjb",
        "outputId": "59d650b4-60da-4f47-ab85-2b31959b2a60"
      },
      "execution_count": 175,
      "outputs": [
        {
          "output_type": "stream",
          "name": "stdout",
          "text": [
            "0.03463268280029297\n"
          ]
        }
      ]
    }
  ]
}